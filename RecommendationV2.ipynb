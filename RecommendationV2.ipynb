{
  "nbformat": 4,
  "nbformat_minor": 0,
  "metadata": {
    "kernelspec": {
      "display_name": "Python 3",
      "language": "python",
      "name": "python3"
    },
    "language_info": {
      "codemirror_mode": {
        "name": "ipython",
        "version": 3
      },
      "file_extension": ".py",
      "mimetype": "text/x-python",
      "name": "python",
      "nbconvert_exporter": "python",
      "pygments_lexer": "ipython3",
      "version": "3.6.5"
    },
    "colab": {
      "name": "RecommendationV2.ipynb",
      "version": "0.3.2",
      "provenance": [],
      "toc_visible": true
    }
  },
  "cells": [
    {
      "cell_type": "code",
      "metadata": {
        "id": "eIdfCeAkoDDl",
        "colab_type": "code",
        "colab": {}
      },
      "source": [
        "import pandas as pd\n",
        "import numpy as np\n",
        "from sklearn.metrics.pairwise import cosine_similarity\n",
        "from collections import Counter\n",
        "from tqdm import tqdm\n",
        "import datetime as dt\n",
        "data = pd.read_csv('data/train.csv')"
      ],
      "execution_count": 0,
      "outputs": []
    },
    {
      "cell_type": "code",
      "metadata": {
        "id": "enSrGm2WoDDp",
        "colab_type": "code",
        "colab": {},
        "outputId": "7b31408d-0086-4fa8-b54f-72f5782988ea"
      },
      "source": [
        "data.head()"
      ],
      "execution_count": 0,
      "outputs": [
        {
          "output_type": "execute_result",
          "data": {
            "text/html": [
              "<div>\n",
              "<style scoped>\n",
              "    .dataframe tbody tr th:only-of-type {\n",
              "        vertical-align: middle;\n",
              "    }\n",
              "\n",
              "    .dataframe tbody tr th {\n",
              "        vertical-align: top;\n",
              "    }\n",
              "\n",
              "    .dataframe thead th {\n",
              "        text-align: right;\n",
              "    }\n",
              "</style>\n",
              "<table border=\"1\" class=\"dataframe\">\n",
              "  <thead>\n",
              "    <tr style=\"text-align: right;\">\n",
              "      <th></th>\n",
              "      <th>Title</th>\n",
              "      <th>Address.1st.Line</th>\n",
              "      <th>Address.2nd.Line</th>\n",
              "      <th>City</th>\n",
              "      <th>State</th>\n",
              "      <th>Zip.Code</th>\n",
              "      <th>License.Type</th>\n",
              "      <th>License.Issue.Date</th>\n",
              "      <th>Dental.School</th>\n",
              "      <th>Graduation.Date</th>\n",
              "      <th>broker.ID</th>\n",
              "      <th>approach.date</th>\n",
              "      <th>convert</th>\n",
              "    </tr>\n",
              "  </thead>\n",
              "  <tbody>\n",
              "    <tr>\n",
              "      <th>0</th>\n",
              "      <td>DMD</td>\n",
              "      <td>6335 E. Mountain View</td>\n",
              "      <td>NaN</td>\n",
              "      <td>Paradise Valley</td>\n",
              "      <td>AZ</td>\n",
              "      <td>85253</td>\n",
              "      <td>Dentist License</td>\n",
              "      <td>1987-06-10</td>\n",
              "      <td>U of Pittsburg</td>\n",
              "      <td>01/01/1970</td>\n",
              "      <td>chris</td>\n",
              "      <td>2017-08-04</td>\n",
              "      <td>1</td>\n",
              "    </tr>\n",
              "    <tr>\n",
              "      <th>1</th>\n",
              "      <td>DDS</td>\n",
              "      <td>24 N Bullmoose Cir</td>\n",
              "      <td>NaN</td>\n",
              "      <td>Chandler</td>\n",
              "      <td>AZ</td>\n",
              "      <td>85224</td>\n",
              "      <td>Dentist License</td>\n",
              "      <td>2009-06-11</td>\n",
              "      <td>SUNY</td>\n",
              "      <td>06/01/2007</td>\n",
              "      <td>chris</td>\n",
              "      <td>2017-06-17</td>\n",
              "      <td>0</td>\n",
              "    </tr>\n",
              "    <tr>\n",
              "      <th>2</th>\n",
              "      <td>DDS</td>\n",
              "      <td>2470 W Ray Road Suite 1</td>\n",
              "      <td>NaN</td>\n",
              "      <td>Chandler</td>\n",
              "      <td>AZ</td>\n",
              "      <td>85224</td>\n",
              "      <td>Dentist License</td>\n",
              "      <td>2001-07-16</td>\n",
              "      <td>U of TX/SA</td>\n",
              "      <td>05/26/2001</td>\n",
              "      <td>karl</td>\n",
              "      <td>2017-07-03</td>\n",
              "      <td>0</td>\n",
              "    </tr>\n",
              "    <tr>\n",
              "      <th>3</th>\n",
              "      <td>DDS</td>\n",
              "      <td>6649 East Valle Di Cadore</td>\n",
              "      <td>NaN</td>\n",
              "      <td>Tucson</td>\n",
              "      <td>AZ</td>\n",
              "      <td>85750</td>\n",
              "      <td>Dentist License</td>\n",
              "      <td>1963-01-01</td>\n",
              "      <td>NW</td>\n",
              "      <td>01/01/1957</td>\n",
              "      <td>chris</td>\n",
              "      <td>2016-11-14</td>\n",
              "      <td>0</td>\n",
              "    </tr>\n",
              "    <tr>\n",
              "      <th>4</th>\n",
              "      <td>DDS</td>\n",
              "      <td>6938 E. Gary</td>\n",
              "      <td>NaN</td>\n",
              "      <td>Scottsdale</td>\n",
              "      <td>AZ</td>\n",
              "      <td>85254</td>\n",
              "      <td>Dentist License</td>\n",
              "      <td>1979-12-13</td>\n",
              "      <td>U of Detroit</td>\n",
              "      <td>01/01/1965</td>\n",
              "      <td>sarah</td>\n",
              "      <td>2017-08-27</td>\n",
              "      <td>0</td>\n",
              "    </tr>\n",
              "  </tbody>\n",
              "</table>\n",
              "</div>"
            ],
            "text/plain": [
              "  Title           Address.1st.Line Address.2nd.Line             City State  \\\n",
              "0   DMD      6335 E. Mountain View              NaN  Paradise Valley    AZ   \n",
              "1   DDS         24 N Bullmoose Cir              NaN         Chandler    AZ   \n",
              "2   DDS    2470 W Ray Road Suite 1              NaN         Chandler    AZ   \n",
              "3   DDS  6649 East Valle Di Cadore              NaN           Tucson    AZ   \n",
              "4   DDS               6938 E. Gary              NaN       Scottsdale    AZ   \n",
              "\n",
              "  Zip.Code     License.Type License.Issue.Date   Dental.School  \\\n",
              "0    85253  Dentist License         1987-06-10  U of Pittsburg   \n",
              "1    85224  Dentist License         2009-06-11            SUNY   \n",
              "2    85224  Dentist License         2001-07-16      U of TX/SA   \n",
              "3    85750  Dentist License         1963-01-01              NW   \n",
              "4    85254  Dentist License         1979-12-13    U of Detroit   \n",
              "\n",
              "  Graduation.Date broker.ID approach.date  convert  \n",
              "0      01/01/1970     chris    2017-08-04        1  \n",
              "1      06/01/2007     chris    2017-06-17        0  \n",
              "2      05/26/2001      karl    2017-07-03        0  \n",
              "3      01/01/1957     chris    2016-11-14        0  \n",
              "4      01/01/1965     sarah    2017-08-27        0  "
            ]
          },
          "metadata": {
            "tags": []
          },
          "execution_count": 2
        }
      ]
    },
    {
      "cell_type": "code",
      "metadata": {
        "id": "0cHyKRLBoDDt",
        "colab_type": "code",
        "colab": {}
      },
      "source": [
        "def date_to_nth_day(date, format='%Y-%m-%d'):\n",
        "    date = pd.to_datetime(date, format=format)\n",
        "    new_year_day = pd.Timestamp(year=date.year, month=1, day=1)\n",
        "    return int((date - new_year_day).days + 1)"
      ],
      "execution_count": 0,
      "outputs": []
    },
    {
      "cell_type": "markdown",
      "metadata": {
        "id": "5z7slQRWoDDv",
        "colab_type": "text"
      },
      "source": [
        "# Train"
      ]
    },
    {
      "cell_type": "code",
      "metadata": {
        "id": "S06JI_oToDDw",
        "colab_type": "code",
        "colab": {}
      },
      "source": [
        "data = data[data['convert']==1]\n",
        "\n",
        "data.drop(labels=['License.Type','State', 'Address.1st.Line','Address.2nd.Line','Zip.Code'],axis=1, inplace=True)\n",
        "\n",
        "#Handling Approach\n",
        "data['approach']=data['approach.date'].apply(lambda x:date_to_nth_day(x))\n",
        "data.drop(labels=['approach.date'],axis=1, inplace=True)\n",
        "\n",
        "#Handling License and Graudation date\n",
        "data['licensedate']=data['License.Issue.Date'].apply(lambda x: x[:4])\n",
        "data['licensedate'] = data['licensedate'].astype(int)\n",
        "data['graduation']=data['Graduation.Date'].apply(lambda x: x[-4:])\n",
        "data['graduation'] = data['graduation'].astype(int)\n",
        "data.drop(labels=['License.Issue.Date'],axis=1, inplace=True)\n",
        "data.drop(labels=['Graduation.Date'],axis=1, inplace=True)\n",
        "\n",
        "correct_index = ['Title', 'City', 'Dental.School', 'licensedate', 'graduation']\n",
        "data = data[correct_index]\n",
        "data = pd.concat([data,pd.get_dummies(data['Title']),pd.get_dummies(data['City']),pd.get_dummies(data['Dental.School']),\n",
        "                        pd.get_dummies(data['licensedate']),\n",
        "    pd.get_dummies(data['graduation'])],axis=1)\n",
        "data.reset_index(drop=True, inplace=True)\n",
        "train_set=set(list(data.columns.values))"
      ],
      "execution_count": 0,
      "outputs": []
    },
    {
      "cell_type": "markdown",
      "metadata": {
        "id": "i0insmsyoDDy",
        "colab_type": "text"
      },
      "source": [
        "# With Broker ID"
      ]
    },
    {
      "cell_type": "code",
      "metadata": {
        "id": "2mw8tmrqoDDy",
        "colab_type": "code",
        "colab": {},
        "outputId": "0814beab-9b33-4b7c-8be5-8734a71ac741"
      },
      "source": [
        "# trainwbroker = data[data['convert']==1]\n",
        "trainwbroker['approach']=trainwbroker['approach.date'].apply(lambda x:date_to_nth_day(x))\n",
        "# trainwbroker.reset_index(inplace=True, drop=True)"
      ],
      "execution_count": 0,
      "outputs": [
        {
          "output_type": "stream",
          "text": [
            "/home/jayrodge/anaconda3/lib/python3.6/site-packages/ipykernel_launcher.py:2: SettingWithCopyWarning: \n",
            "A value is trying to be set on a copy of a slice from a DataFrame.\n",
            "Try using .loc[row_indexer,col_indexer] = value instead\n",
            "\n",
            "See the caveats in the documentation: http://pandas.pydata.org/pandas-docs/stable/indexing.html#indexing-view-versus-copy\n",
            "  \n"
          ],
          "name": "stderr"
        }
      ]
    },
    {
      "cell_type": "code",
      "metadata": {
        "id": "2TDf5xvboDD1",
        "colab_type": "code",
        "colab": {},
        "outputId": "2c0447e5-bb6b-4167-e1e0-55f73995bcfa"
      },
      "source": [
        "trainwbroker.head()"
      ],
      "execution_count": 0,
      "outputs": [
        {
          "output_type": "execute_result",
          "data": {
            "text/html": [
              "<div>\n",
              "<style scoped>\n",
              "    .dataframe tbody tr th:only-of-type {\n",
              "        vertical-align: middle;\n",
              "    }\n",
              "\n",
              "    .dataframe tbody tr th {\n",
              "        vertical-align: top;\n",
              "    }\n",
              "\n",
              "    .dataframe thead th {\n",
              "        text-align: right;\n",
              "    }\n",
              "</style>\n",
              "<table border=\"1\" class=\"dataframe\">\n",
              "  <thead>\n",
              "    <tr style=\"text-align: right;\">\n",
              "      <th></th>\n",
              "      <th>Title</th>\n",
              "      <th>Address.1st.Line</th>\n",
              "      <th>Address.2nd.Line</th>\n",
              "      <th>City</th>\n",
              "      <th>State</th>\n",
              "      <th>Zip.Code</th>\n",
              "      <th>License.Type</th>\n",
              "      <th>License.Issue.Date</th>\n",
              "      <th>Dental.School</th>\n",
              "      <th>Graduation.Date</th>\n",
              "      <th>broker.ID</th>\n",
              "      <th>approach.date</th>\n",
              "      <th>convert</th>\n",
              "      <th>approach</th>\n",
              "    </tr>\n",
              "  </thead>\n",
              "  <tbody>\n",
              "    <tr>\n",
              "      <th>0</th>\n",
              "      <td>DMD</td>\n",
              "      <td>6335 E. Mountain View</td>\n",
              "      <td>NaN</td>\n",
              "      <td>Paradise Valley</td>\n",
              "      <td>AZ</td>\n",
              "      <td>85253</td>\n",
              "      <td>Dentist License</td>\n",
              "      <td>1987-06-10</td>\n",
              "      <td>U of Pittsburg</td>\n",
              "      <td>01/01/1970</td>\n",
              "      <td>chris</td>\n",
              "      <td>2017-08-04</td>\n",
              "      <td>1</td>\n",
              "      <td>216</td>\n",
              "    </tr>\n",
              "    <tr>\n",
              "      <th>1</th>\n",
              "      <td>DMD</td>\n",
              "      <td>5620 W Thunderbird Rd Ste G-1</td>\n",
              "      <td>NaN</td>\n",
              "      <td>Glendale</td>\n",
              "      <td>AZ</td>\n",
              "      <td>85306</td>\n",
              "      <td>Dentist License</td>\n",
              "      <td>2006-04-10</td>\n",
              "      <td>U of PA</td>\n",
              "      <td>05/13/2002</td>\n",
              "      <td>karl</td>\n",
              "      <td>2017-01-31</td>\n",
              "      <td>1</td>\n",
              "      <td>31</td>\n",
              "    </tr>\n",
              "    <tr>\n",
              "      <th>2</th>\n",
              "      <td>DDS</td>\n",
              "      <td>3202 E. Greenway Rd</td>\n",
              "      <td>Ste 1287</td>\n",
              "      <td>Phoenix</td>\n",
              "      <td>AZ</td>\n",
              "      <td>85032</td>\n",
              "      <td>Dentist License</td>\n",
              "      <td>1988-11-18</td>\n",
              "      <td>Loyola/Chicago</td>\n",
              "      <td>05/31/1987</td>\n",
              "      <td>karl</td>\n",
              "      <td>2018-12-25</td>\n",
              "      <td>1</td>\n",
              "      <td>359</td>\n",
              "    </tr>\n",
              "    <tr>\n",
              "      <th>3</th>\n",
              "      <td>DDS</td>\n",
              "      <td>2474 E Calle Los Altos</td>\n",
              "      <td>NaN</td>\n",
              "      <td>Tucson</td>\n",
              "      <td>AZ</td>\n",
              "      <td>85718</td>\n",
              "      <td>Dentist License</td>\n",
              "      <td>2005-05-13</td>\n",
              "      <td>U of TX/H</td>\n",
              "      <td>05/24/2003</td>\n",
              "      <td>chris</td>\n",
              "      <td>2016-01-17</td>\n",
              "      <td>1</td>\n",
              "      <td>17</td>\n",
              "    </tr>\n",
              "    <tr>\n",
              "      <th>4</th>\n",
              "      <td>DDS</td>\n",
              "      <td>3100 W. Renegade Rd.</td>\n",
              "      <td>NaN</td>\n",
              "      <td>Prescott</td>\n",
              "      <td>AZ</td>\n",
              "      <td>86305</td>\n",
              "      <td>Dentist License</td>\n",
              "      <td>1993-02-25</td>\n",
              "      <td>Creighton</td>\n",
              "      <td>05/08/1991</td>\n",
              "      <td>karl</td>\n",
              "      <td>2016-06-26</td>\n",
              "      <td>1</td>\n",
              "      <td>178</td>\n",
              "    </tr>\n",
              "  </tbody>\n",
              "</table>\n",
              "</div>"
            ],
            "text/plain": [
              "  Title               Address.1st.Line Address.2nd.Line             City  \\\n",
              "0   DMD          6335 E. Mountain View              NaN  Paradise Valley   \n",
              "1   DMD  5620 W Thunderbird Rd Ste G-1              NaN         Glendale   \n",
              "2   DDS            3202 E. Greenway Rd         Ste 1287          Phoenix   \n",
              "3   DDS         2474 E Calle Los Altos              NaN           Tucson   \n",
              "4   DDS           3100 W. Renegade Rd.              NaN         Prescott   \n",
              "\n",
              "  State Zip.Code     License.Type License.Issue.Date   Dental.School  \\\n",
              "0    AZ    85253  Dentist License         1987-06-10  U of Pittsburg   \n",
              "1    AZ    85306  Dentist License         2006-04-10         U of PA   \n",
              "2    AZ    85032  Dentist License         1988-11-18  Loyola/Chicago   \n",
              "3    AZ    85718  Dentist License         2005-05-13       U of TX/H   \n",
              "4    AZ    86305  Dentist License         1993-02-25       Creighton   \n",
              "\n",
              "  Graduation.Date broker.ID approach.date  convert  approach  \n",
              "0      01/01/1970     chris    2017-08-04        1       216  \n",
              "1      05/13/2002      karl    2017-01-31        1        31  \n",
              "2      05/31/1987      karl    2018-12-25        1       359  \n",
              "3      05/24/2003     chris    2016-01-17        1        17  \n",
              "4      05/08/1991      karl    2016-06-26        1       178  "
            ]
          },
          "metadata": {
            "tags": []
          },
          "execution_count": 125
        }
      ]
    },
    {
      "cell_type": "markdown",
      "metadata": {
        "id": "JH3aIy7woDD4",
        "colab_type": "text"
      },
      "source": [
        "# Test"
      ]
    },
    {
      "cell_type": "code",
      "metadata": {
        "id": "Jsd9Q5r0oDD5",
        "colab_type": "code",
        "colab": {}
      },
      "source": [
        "test = pd.read_csv('data/test.csv')\n",
        "test.drop(labels=['License.Type','State', 'Address.1st.Line','Address.2nd.Line','Zip.Code'],axis=1, inplace=True)\n",
        "#Handling License and Graudation date\n",
        "test['licensedate']=test['License.Issue.Date'].apply(lambda x: x[:4])\n",
        "test['licensedate'] = test['licensedate'].astype(int)\n",
        "test['graduation']=test['Graduation.Date'].apply(lambda x: x[-4:])\n",
        "test['graduation'] = test['graduation'].astype(int)\n",
        "test.drop(labels=['License.Issue.Date'],axis=1, inplace=True)\n",
        "test.drop(labels=['Graduation.Date'],axis=1, inplace=True)\n",
        "\n",
        "correct_index = ['Title', 'City', 'Dental.School', 'licensedate', 'graduation']\n",
        "test = test[correct_index]\n",
        "test = pd.concat([test,pd.get_dummies(test['Title']),pd.get_dummies(test['City']),pd.get_dummies(test['Dental.School']),\n",
        "                        pd.get_dummies(test['licensedate']),    pd.get_dummies(test['graduation'])],axis=1)\n",
        "test_set = set(list(test.columns.values))"
      ],
      "execution_count": 0,
      "outputs": []
    },
    {
      "cell_type": "code",
      "metadata": {
        "id": "-LVfhrXMoDD7",
        "colab_type": "code",
        "colab": {}
      },
      "source": [
        "total_columns = test_set | train_set"
      ],
      "execution_count": 0,
      "outputs": []
    },
    {
      "cell_type": "code",
      "metadata": {
        "id": "8dMn0vQWoDD9",
        "colab_type": "code",
        "colab": {}
      },
      "source": [
        "train_df = pd.DataFrame(0,columns=total_columns,index=np.arange(238))\n",
        "test_df = pd.DataFrame(0,columns=total_columns,index=np.arange(len(test)))"
      ],
      "execution_count": 0,
      "outputs": []
    },
    {
      "cell_type": "code",
      "metadata": {
        "id": "Kpj93xHNoDD_",
        "colab_type": "code",
        "colab": {},
        "outputId": "67c0cbf9-e21a-447e-8d5d-111e0f25da74"
      },
      "source": [
        "data.head()"
      ],
      "execution_count": 0,
      "outputs": [
        {
          "output_type": "execute_result",
          "data": {
            "text/html": [
              "<div>\n",
              "<style scoped>\n",
              "    .dataframe tbody tr th:only-of-type {\n",
              "        vertical-align: middle;\n",
              "    }\n",
              "\n",
              "    .dataframe tbody tr th {\n",
              "        vertical-align: top;\n",
              "    }\n",
              "\n",
              "    .dataframe thead th {\n",
              "        text-align: right;\n",
              "    }\n",
              "</style>\n",
              "<table border=\"1\" class=\"dataframe\">\n",
              "  <thead>\n",
              "    <tr style=\"text-align: right;\">\n",
              "      <th></th>\n",
              "      <th>Title</th>\n",
              "      <th>City</th>\n",
              "      <th>Dental.School</th>\n",
              "      <th>licensedate</th>\n",
              "      <th>graduation</th>\n",
              "      <th>BDS</th>\n",
              "      <th>DDS</th>\n",
              "      <th>DMD</th>\n",
              "      <th>Ajo</th>\n",
              "      <th>Casa Grande</th>\n",
              "      <th>...</th>\n",
              "      <th>2006</th>\n",
              "      <th>2007</th>\n",
              "      <th>2008</th>\n",
              "      <th>2009</th>\n",
              "      <th>2010</th>\n",
              "      <th>2011</th>\n",
              "      <th>2012</th>\n",
              "      <th>2013</th>\n",
              "      <th>2014</th>\n",
              "      <th>2015</th>\n",
              "    </tr>\n",
              "  </thead>\n",
              "  <tbody>\n",
              "    <tr>\n",
              "      <th>0</th>\n",
              "      <td>DMD</td>\n",
              "      <td>Paradise Valley</td>\n",
              "      <td>U of Pittsburg</td>\n",
              "      <td>1987</td>\n",
              "      <td>1970</td>\n",
              "      <td>0</td>\n",
              "      <td>0</td>\n",
              "      <td>1</td>\n",
              "      <td>0</td>\n",
              "      <td>0</td>\n",
              "      <td>...</td>\n",
              "      <td>0</td>\n",
              "      <td>0</td>\n",
              "      <td>0</td>\n",
              "      <td>0</td>\n",
              "      <td>0</td>\n",
              "      <td>0</td>\n",
              "      <td>0</td>\n",
              "      <td>0</td>\n",
              "      <td>0</td>\n",
              "      <td>0</td>\n",
              "    </tr>\n",
              "    <tr>\n",
              "      <th>1</th>\n",
              "      <td>DMD</td>\n",
              "      <td>Glendale</td>\n",
              "      <td>U of PA</td>\n",
              "      <td>2006</td>\n",
              "      <td>2002</td>\n",
              "      <td>0</td>\n",
              "      <td>0</td>\n",
              "      <td>1</td>\n",
              "      <td>0</td>\n",
              "      <td>0</td>\n",
              "      <td>...</td>\n",
              "      <td>0</td>\n",
              "      <td>0</td>\n",
              "      <td>0</td>\n",
              "      <td>0</td>\n",
              "      <td>0</td>\n",
              "      <td>0</td>\n",
              "      <td>0</td>\n",
              "      <td>0</td>\n",
              "      <td>0</td>\n",
              "      <td>0</td>\n",
              "    </tr>\n",
              "    <tr>\n",
              "      <th>2</th>\n",
              "      <td>DDS</td>\n",
              "      <td>Phoenix</td>\n",
              "      <td>Loyola/Chicago</td>\n",
              "      <td>1988</td>\n",
              "      <td>1987</td>\n",
              "      <td>0</td>\n",
              "      <td>1</td>\n",
              "      <td>0</td>\n",
              "      <td>0</td>\n",
              "      <td>0</td>\n",
              "      <td>...</td>\n",
              "      <td>0</td>\n",
              "      <td>0</td>\n",
              "      <td>0</td>\n",
              "      <td>0</td>\n",
              "      <td>0</td>\n",
              "      <td>0</td>\n",
              "      <td>0</td>\n",
              "      <td>0</td>\n",
              "      <td>0</td>\n",
              "      <td>0</td>\n",
              "    </tr>\n",
              "    <tr>\n",
              "      <th>3</th>\n",
              "      <td>DDS</td>\n",
              "      <td>Tucson</td>\n",
              "      <td>U of TX/H</td>\n",
              "      <td>2005</td>\n",
              "      <td>2003</td>\n",
              "      <td>0</td>\n",
              "      <td>1</td>\n",
              "      <td>0</td>\n",
              "      <td>0</td>\n",
              "      <td>0</td>\n",
              "      <td>...</td>\n",
              "      <td>0</td>\n",
              "      <td>0</td>\n",
              "      <td>0</td>\n",
              "      <td>0</td>\n",
              "      <td>0</td>\n",
              "      <td>0</td>\n",
              "      <td>0</td>\n",
              "      <td>0</td>\n",
              "      <td>0</td>\n",
              "      <td>0</td>\n",
              "    </tr>\n",
              "    <tr>\n",
              "      <th>4</th>\n",
              "      <td>DDS</td>\n",
              "      <td>Prescott</td>\n",
              "      <td>Creighton</td>\n",
              "      <td>1993</td>\n",
              "      <td>1991</td>\n",
              "      <td>0</td>\n",
              "      <td>1</td>\n",
              "      <td>0</td>\n",
              "      <td>0</td>\n",
              "      <td>0</td>\n",
              "      <td>...</td>\n",
              "      <td>0</td>\n",
              "      <td>0</td>\n",
              "      <td>0</td>\n",
              "      <td>0</td>\n",
              "      <td>0</td>\n",
              "      <td>0</td>\n",
              "      <td>0</td>\n",
              "      <td>0</td>\n",
              "      <td>0</td>\n",
              "      <td>0</td>\n",
              "    </tr>\n",
              "  </tbody>\n",
              "</table>\n",
              "<p>5 rows × 244 columns</p>\n",
              "</div>"
            ],
            "text/plain": [
              "  Title             City   Dental.School  licensedate  graduation  BDS  DDS  \\\n",
              "0   DMD  Paradise Valley  U of Pittsburg         1987        1970    0    0   \n",
              "1   DMD         Glendale         U of PA         2006        2002    0    0   \n",
              "2   DDS          Phoenix  Loyola/Chicago         1988        1987    0    1   \n",
              "3   DDS           Tucson       U of TX/H         2005        2003    0    1   \n",
              "4   DDS         Prescott       Creighton         1993        1991    0    1   \n",
              "\n",
              "   DMD  Ajo  Casa Grande  ...   2006  2007  2008  2009  2010  2011  2012  \\\n",
              "0    1    0            0  ...      0     0     0     0     0     0     0   \n",
              "1    1    0            0  ...      0     0     0     0     0     0     0   \n",
              "2    0    0            0  ...      0     0     0     0     0     0     0   \n",
              "3    0    0            0  ...      0     0     0     0     0     0     0   \n",
              "4    0    0            0  ...      0     0     0     0     0     0     0   \n",
              "\n",
              "   2013  2014  2015  \n",
              "0     0     0     0  \n",
              "1     0     0     0  \n",
              "2     0     0     0  \n",
              "3     0     0     0  \n",
              "4     0     0     0  \n",
              "\n",
              "[5 rows x 244 columns]"
            ]
          },
          "metadata": {
            "tags": []
          },
          "execution_count": 8
        }
      ]
    },
    {
      "cell_type": "code",
      "metadata": {
        "id": "tQtrtEPeoDEC",
        "colab_type": "code",
        "colab": {},
        "outputId": "8782b8bc-7372-4007-f619-baf1b3fbe1fc"
      },
      "source": [
        "for i in tqdm(range(0,len(data))):\n",
        "    train_df.loc[i][data.loc[i]['Title']] = 1\n",
        "    train_df.loc[i][data.loc[i]['City']] = 1\n",
        "    train_df.loc[i][data.loc[i]['Dental.School']] = 1\n",
        "    train_df.loc[i][data.loc[i]['licensedate']] = 1\n",
        "    train_df.loc[i][data.loc[i]['graduation']] = 1"
      ],
      "execution_count": 0,
      "outputs": [
        {
          "output_type": "stream",
          "text": [
            "100%|██████████| 238/238 [00:03<00:00, 85.71it/s]\n"
          ],
          "name": "stderr"
        }
      ]
    },
    {
      "cell_type": "code",
      "metadata": {
        "id": "Sk1zlzThoDEE",
        "colab_type": "code",
        "colab": {},
        "outputId": "b211e9b5-acef-4dd5-d739-6cbb422b381e"
      },
      "source": [
        "for i in tqdm(range(0,len(test))):\n",
        "    test_df.loc[i][test.loc[i]['Title']] = 1\n",
        "    test_df.loc[i][test.loc[i]['City']] = 1\n",
        "    test_df.loc[i][test.loc[i]['Dental.School']] = 1\n",
        "    test_df.loc[i][test.loc[i]['licensedate']] = 1\n",
        "    test_df.loc[i][test.loc[i]['graduation']] = 1"
      ],
      "execution_count": 0,
      "outputs": [
        {
          "output_type": "stream",
          "text": [
            "100%|██████████| 2331/2331 [07:32<00:00,  5.17it/s]\n"
          ],
          "name": "stderr"
        }
      ]
    },
    {
      "cell_type": "code",
      "metadata": {
        "id": "3XjJCmzVoDEH",
        "colab_type": "code",
        "colab": {}
      },
      "source": [
        "test_df.drop(labels=['broker.ID','approach'],axis=1,inplace=True)"
      ],
      "execution_count": 0,
      "outputs": []
    },
    {
      "cell_type": "code",
      "metadata": {
        "id": "JbhouxvnoDEJ",
        "colab_type": "code",
        "colab": {},
        "outputId": "c7a596fe-e7d7-4ecf-c4bc-3210b0fd8b3b"
      },
      "source": [
        "A = {}\n",
        "B = {}\n",
        "df = {}\n",
        "app = {}\n",
        "CWBroker = Counter()\n",
        "for test_index, test_row in tqdm(test_df.iterrows()):\n",
        "    brokerid = []\n",
        "    sum1 = 0\n",
        "    average1 = 0\n",
        "    approachdate = []\n",
        "    for train_index, train_row in train_df.iterrows():\n",
        "        A[train_index] = cosine_similarity([test_row], [train_row])\n",
        "    \n",
        "    B = dict(Counter(A).most_common(5))\n",
        "    chris = 0\n",
        "    karl = 0\n",
        "    sarah = 0\n",
        "    for key, value in B.items():\n",
        "        stra = trainwbroker.loc[key]['broker.ID']\n",
        "        if stra == \"chris\":\n",
        "            chris= chris+1\n",
        "        elif stra == \"karl\":\n",
        "            karl= karl+1\n",
        "        elif stra == \"sarah\":\n",
        "            sarah= sarah+1\n",
        "            \n",
        "        sum1 = sum1 + trainwbroker.loc[key]['approach']\n",
        "    average1 = int(sum1/5.0)\n",
        "    \n",
        "    \n",
        "    if(chris > karl & chris > sarah):\n",
        "        df.update({test_index: \"chris\"})\n",
        "        app.update({test_index: (dt.datetime(2019,2,1) + dt.timedelta(average1-1)).strftime('%Y-%m-%d')})\n",
        "    elif(karl > sarah & karl > chris):\n",
        "        df.update({test_index: \"karl\"})\n",
        "        app.update({test_index: (dt.datetime(2019,2,1) + dt.timedelta(average1-1)).strftime('%Y-%m-%d')})\n",
        "    elif(sarah > karl & sarah > chris):\n",
        "        df.update({test_index: \"sarah\"})\n",
        "        app.update({test_index: (dt.datetime(2019,2,1) + dt.timedelta(average1-1)).strftime('%Y-%m-%d')})\n",
        "        \n",
        "   "
      ],
      "execution_count": 0,
      "outputs": [
        {
          "output_type": "stream",
          "text": [
            "2331it [05:13,  7.44it/s]\n"
          ],
          "name": "stderr"
        }
      ]
    },
    {
      "cell_type": "code",
      "metadata": {
        "id": "cSGK0eJNoDEL",
        "colab_type": "code",
        "colab": {},
        "outputId": "9d677203-0615-4f82-be62-328f3ec5e17e"
      },
      "source": [
        "len(app)"
      ],
      "execution_count": 0,
      "outputs": [
        {
          "output_type": "execute_result",
          "data": {
            "text/plain": [
              "355"
            ]
          },
          "metadata": {
            "tags": []
          },
          "execution_count": 130
        }
      ]
    },
    {
      "cell_type": "code",
      "metadata": {
        "id": "CJMbAhsCoDEO",
        "colab_type": "code",
        "colab": {}
      },
      "source": [
        "test__df = pd.read_csv('data/test.csv')"
      ],
      "execution_count": 0,
      "outputs": []
    },
    {
      "cell_type": "code",
      "metadata": {
        "id": "8GaxKopyoDER",
        "colab_type": "code",
        "colab": {},
        "outputId": "2a17508d-5ec6-44ba-af76-f5fc34c5ca06"
      },
      "source": [
        "for key, value in df.items():\n",
        "    #print(test__df.loc[key]['broker.ID'])\n",
        "    test__df.loc[key]['broker.ID'] = value\n",
        "for key, value in tqdm(app.items()):\n",
        "    test__df.loc[key]['approach.date'] = value"
      ],
      "execution_count": 0,
      "outputs": [
        {
          "output_type": "stream",
          "text": [
            "100%|██████████| 355/355 [00:00<00:00, 6641.92it/s]\n"
          ],
          "name": "stderr"
        }
      ]
    },
    {
      "cell_type": "code",
      "metadata": {
        "id": "n2bGme_FoDEU",
        "colab_type": "code",
        "colab": {}
      },
      "source": [
        "test__df['broker.ID'] = 'NA'\n",
        "test__df['approach.date'] = '0000-00-00'"
      ],
      "execution_count": 0,
      "outputs": []
    },
    {
      "cell_type": "code",
      "metadata": {
        "id": "S69NhHpEoDEW",
        "colab_type": "code",
        "colab": {}
      },
      "source": [
        "test__df=test__df[test__df['broker.ID']!='NA']"
      ],
      "execution_count": 0,
      "outputs": []
    },
    {
      "cell_type": "code",
      "metadata": {
        "id": "T53Cdi6VoDEZ",
        "colab_type": "code",
        "colab": {}
      },
      "source": [
        "test__df.to_csv('leads_rec.csv',index=False, index_label=False)"
      ],
      "execution_count": 0,
      "outputs": []
    },
    {
      "cell_type": "code",
      "metadata": {
        "id": "sCAIi_x_oDEb",
        "colab_type": "code",
        "colab": {}
      },
      "source": [
        ""
      ],
      "execution_count": 0,
      "outputs": []
    }
  ]
}